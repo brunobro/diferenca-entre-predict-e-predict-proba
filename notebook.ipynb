{
  "nbformat": 4,
  "nbformat_minor": 0,
  "metadata": {
    "colab": {
      "name": "MI-Predict.ipynb",
      "provenance": [],
      "authorship_tag": "ABX9TyNnp3+9pUBpZAR0maNxEZlb",
      "include_colab_link": true
    },
    "kernelspec": {
      "name": "python3",
      "display_name": "Python 3"
    },
    "language_info": {
      "name": "python"
    }
  },
  "cells": [
    {
      "cell_type": "markdown",
      "metadata": {
        "id": "view-in-github",
        "colab_type": "text"
      },
      "source": [
        "<a href=\"https://colab.research.google.com/github/brunobro/diferenca-entre-predict-e-predict-proba/blob/main/notebook.ipynb\" target=\"_parent\"><img src=\"https://colab.research.google.com/assets/colab-badge.svg\" alt=\"Open In Colab\"/></a>"
      ]
    },
    {
      "cell_type": "markdown",
      "metadata": {
        "id": "f-jBBL6F6wRB"
      },
      "source": [
        "#**Predict e Predict Proba do Scikit-Learn**\n",
        "\n",
        "Qual a diferença entre os métodos predict() e predict_proba() da biblioteca Scikit-Learn?\n",
        "\n",
        "Dado um conjunto de classes $C = \\left\\lbrace{C_1, C_2, \\cdots, C_n}\\right\\rbrace$\n",
        "\n",
        "*   **predict(X)**: prediz uma classe em $C$ para o vetor X.\n",
        "*   **predict_proba(X)**: prediz a probabilidade das classes em $C$ para o vetor X.\n",
        "\n"
      ]
    },
    {
      "cell_type": "code",
      "metadata": {
        "id": "aQH0XAEbC0GY"
      },
      "source": [
        "from sklearn.datasets import load_breast_cancer\n",
        "from sklearn.svm import SVC\n",
        "from sklearn.model_selection import train_test_split"
      ],
      "execution_count": null,
      "outputs": []
    },
    {
      "cell_type": "code",
      "metadata": {
        "colab": {
          "base_uri": "https://localhost:8080/"
        },
        "id": "Jj9J5wwi6tC-",
        "outputId": "16049b1a-0ae3-4261-f3ac-043ede2e1330"
      },
      "source": [
        "'''\n",
        "Obtenção dos dados e treinamento do modelo\n",
        "'''\n",
        "\n",
        "#Obtém os dados da base Câncer de Mama que possui duas classes\n",
        "#rotuladas como 0 e 1\n",
        "(X, y) = load_breast_cancer(return_X_y=True)\n",
        "\n",
        "#Separa os dados de treinamento e teste\n",
        "X_train, X_test, y_train, y_test = train_test_split(X, y, test_size=0.33, random_state=0)\n",
        "\n",
        "#Obtêm um modelo utilizando o algoritmo Suporte Vector Machine\n",
        "clf = SVC(probability=True, random_state=0)\n",
        "clf.fit(X_train, y_train)"
      ],
      "execution_count": null,
      "outputs": [
        {
          "output_type": "execute_result",
          "data": {
            "text/plain": [
              "SVC(C=1.0, break_ties=False, cache_size=200, class_weight=None, coef0=0.0,\n",
              "    decision_function_shape='ovr', degree=3, gamma='scale', kernel='rbf',\n",
              "    max_iter=-1, probability=True, random_state=0, shrinking=True, tol=0.001,\n",
              "    verbose=False)"
            ]
          },
          "metadata": {},
          "execution_count": 20
        }
      ]
    },
    {
      "cell_type": "code",
      "metadata": {
        "colab": {
          "base_uri": "https://localhost:8080/"
        },
        "id": "yNTjtn3c6vir",
        "outputId": "edb62dde-0118-4a14-8fed-5fc891f2c929"
      },
      "source": [
        "'''\n",
        "Comparação entre predict() e predict_proba() \n",
        "'''\n",
        "\n",
        "#Escolhe uma amostra específica do vetor de teste\n",
        "K = 10\n",
        "\n",
        "X_ = X_test[K,:]\n",
        "y_ = y_test[K]\n",
        "\n",
        "#Predições\n",
        "pred_1 = clf.predict(X_.reshape(1, -1))\n",
        "pred_2 = clf.predict_proba(X_.reshape(1, -1))\n",
        "\n",
        "print('predict():', pred_1[0])\n",
        "print('predict_proba():', pred_2[0])"
      ],
      "execution_count": null,
      "outputs": [
        {
          "output_type": "stream",
          "name": "stdout",
          "text": [
            "predict(): 1\n",
            "predict_proba(): [0.35292806 0.64707194]\n"
          ]
        }
      ]
    },
    {
      "cell_type": "markdown",
      "metadata": {
        "id": "6COr0I-o_Vfz"
      },
      "source": [
        "#**Análise**\n",
        "\n",
        "No exemplo acima, o método predict() predisse a classe 1.\n",
        "\n",
        "Por outro lado, o método predict_proba() predisse a classe 0 com probabilidade de 0.35 e a classe 1 com probabilidade 0.64.\n",
        "\n",
        "Uma desvantagem evidente do método predict(), para um problema de classificação binário, é que se você tiver uma probabilidade de 0.51 para a classe 1 e outra de 0.49 para a classe 0, ainda assim ele retornará a classe 0.\n",
        "\n"
      ]
    },
    {
      "cell_type": "markdown",
      "metadata": {
        "id": "QpZ_aREJGHAV"
      },
      "source": [
        "#**Explorando predict_proba()**\n",
        "\n",
        "Imagine que a predição de Câncer de Mama como positivo (classe 1) somente seja aceitável se a probabilidade for maior que 80%.\n",
        "\n",
        "Neste caso, o método predict() não é adequado, porque ele fará a predição da classe 1 sempre que a probabilidade for maior que da classe 0.\n",
        "\n",
        "Então devemos utilizar o método predict_proba() especificando nosso corte de probabilidade, conforme exemplo a seguir."
      ]
    },
    {
      "cell_type": "code",
      "metadata": {
        "colab": {
          "base_uri": "https://localhost:8080/"
        },
        "id": "9MjSYkdRBzHE",
        "outputId": "3f3278a0-398e-4f13-a774-1cc5dd83ca83"
      },
      "source": [
        "'''\n",
        "Especifica um corte de probabilidade de 80%\n",
        "'''\n",
        "\n",
        "#Especifica o corte de probabilidade\n",
        "corte = 0.9\n",
        "\n",
        "preds_1 = []\n",
        "preds_2 = []\n",
        "\n",
        "for k, x_test in enumerate(X_test):\n",
        "  p1 = clf.predict(x_test.reshape(1, -1))\n",
        "  p2 = clf.predict_proba(x_test.reshape(1, -1))\n",
        "\n",
        "  #Predição utilizando predict()\n",
        "  preds_1.append(p1[0])\n",
        "\n",
        "  #Predição utilizando predict_proba() com o corte de probabilidade\n",
        "  if p2[0][1] >= corte:\n",
        "    preds_2.append(1)\n",
        "  else:\n",
        "    preds_2.append(0)\n",
        "\n",
        "#Mostra a diferença nas predições\n",
        "print('Classe positiva')\n",
        "print(' predict(): \\t\\t', preds_1.count(1))\n",
        "print(' predict_proba(): \\t', preds_2.count(1))"
      ],
      "execution_count": 34,
      "outputs": [
        {
          "output_type": "stream",
          "name": "stdout",
          "text": [
            "Classe positiva\n",
            " predict(): \t\t 133\n",
            " predict_proba(): \t 90\n"
          ]
        }
      ]
    }
  ]
}